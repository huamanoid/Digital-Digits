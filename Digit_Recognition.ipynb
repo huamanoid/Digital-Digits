{
 "cells": [
  {
   "cell_type": "code",
   "execution_count": 1,
   "metadata": {
    "colab": {},
    "colab_type": "code",
    "id": "6JDqkRmv9ux7"
   },
   "outputs": [],
   "source": [
    "#Importing the MNIST digit dataset\n",
    "import tensorflow as tf\n",
    "(x_train, y_train), (x_test, y_test) = tf.keras.datasets.mnist.load_data()"
   ]
  },
  {
   "cell_type": "code",
   "execution_count": 2,
   "metadata": {
    "colab": {
     "base_uri": "https://localhost:8080/",
     "height": 300
    },
    "colab_type": "code",
    "id": "mv0xbnX-91yZ",
    "outputId": "0d9524b9-fde3-460e-8d2c-50a4bf8743bf"
   },
   "outputs": [
    {
     "name": "stdout",
     "output_type": "stream",
     "text": [
      "6\n"
     ]
    },
    {
     "data": {
      "text/plain": [
       "<matplotlib.image.AxesImage at 0x24a626ed3d0>"
      ]
     },
     "execution_count": 2,
     "metadata": {},
     "output_type": "execute_result"
    },
    {
     "data": {
      "image/png": "[encoded data removed]",
      "text/plain": [
       "<Figure size 432x288 with 1 Axes>"
      ]
     },
     "metadata": {
      "needs_background": "light"
     },
     "output_type": "display_data"
    }
   ],
   "source": [
    "#Checking the contents of the dataset\n",
    "import matplotlib.pyplot as plt\n",
    "image_index = 44444   #Any number from 1 to 60,000\n",
    "print(y_train[image_index]) # The label is 6\n",
    "plt.imshow(x_train[image_index], cmap='Greys')"
   ]
  },
  {
   "cell_type": "code",
   "execution_count": 3,
   "metadata": {
    "colab": {
     "base_uri": "https://localhost:8080/",
     "height": 52
    },
    "colab_type": "code",
    "id": "uIz_RCHQ-67t",
    "outputId": "5fae51b1-1dbb-42b1-a0f1-c8c4e17bddc0"
   },
   "outputs": [
    {
     "name": "stdout",
     "output_type": "stream",
     "text": [
      "(60000, 28, 28)\n",
      "(60000,)\n"
     ]
    }
   ],
   "source": [
    "#Checking the shapes of x and y\n",
    "print(x_train.shape)\n",
    "print(y_train.shape)"
   ]
  },
  {
   "cell_type": "code",
   "execution_count": 5,
   "metadata": {
    "colab": {
     "base_uri": "https://localhost:8080/",
     "height": 35
    },
    "colab_type": "code",
    "id": "re61vcM4-8_U",
    "outputId": "be90231e-30e1-4cc5-cdac-029907b33622"
   },
   "outputs": [],
   "source": [
    "#Converting the y arrays to a shape of [no. of images, no. of classes]\n",
    "from keras.utils import to_categorical\n",
    "y_train = to_categorical(y_train, num_classes = 10, dtype = 'float32')\n",
    "y_test = to_categorical(y_test, num_classes = 10, dtype = 'float32')"
   ]
  },
  {
   "cell_type": "code",
   "execution_count": 6,
   "metadata": {
    "colab": {
     "base_uri": "https://localhost:8080/",
     "height": 35
    },
    "colab_type": "code",
    "id": "MGwNEjlm--5Y",
    "outputId": "2af18a77-f399-4726-9f97-639912c817d1"
   },
   "outputs": [
    {
     "data": {
      "text/plain": [
       "(60000, 10)"
      ]
     },
     "execution_count": 6,
     "metadata": {},
     "output_type": "execute_result"
    }
   ],
   "source": [
    "y_train.shape"
   ]
  },
  {
   "cell_type": "code",
   "execution_count": 7,
   "metadata": {
    "colab": {},
    "colab_type": "code",
    "id": "sjjWPIUF_A95"
   },
   "outputs": [],
   "source": [
    "# Reshaping the array to include the RGB value. Here RGB value is 1 since it is a b&w image\n",
    "x_train = x_train.reshape(x_train.shape[0], 28, 28, 1)\n",
    "x_test = x_test.reshape(x_test.shape[0], 28, 28, 1)"
   ]
  },
  {
   "cell_type": "code",
   "execution_count": 8,
   "metadata": {
    "colab": {},
    "colab_type": "code",
    "id": "TmVZZWQ__DDQ"
   },
   "outputs": [],
   "source": [
    "# Converting the arrays to float so that we can get decimal points after division\n",
    "x_train = x_train.astype('float32')\n",
    "x_test = x_test.astype('float32')"
   ]
  },
  {
   "cell_type": "code",
   "execution_count": 9,
   "metadata": {
    "colab": {},
    "colab_type": "code",
    "id": "_uPnjex__HGa"
   },
   "outputs": [],
   "source": [
    "# Normalizing the RGB codes by dividing it to the maximum RGB value.\n",
    "x_train /= 255\n",
    "x_test /= 255"
   ]
  },
  {
   "cell_type": "code",
   "execution_count": 10,
   "metadata": {
    "colab": {
     "base_uri": "https://localhost:8080/",
     "height": 87
    },
    "colab_type": "code",
    "id": "2NRMjNl__ItG",
    "outputId": "889b2ef5-a5a3-4c7f-e454-275f2bce54f3"
   },
   "outputs": [
    {
     "name": "stdout",
     "output_type": "stream",
     "text": [
      "x_train shape: (60000, 28, 28, 1)\n",
      "y_train shape: (60000, 10)\n",
      "Number of images in x_train 60000\n",
      "Number of images in x_test 10000\n"
     ]
    }
   ],
   "source": [
    "#Checking the shapes of x_train and y_train \n",
    "print('x_train shape:', x_train.shape)\n",
    "print('y_train shape:', y_train.shape)\n",
    "print('Number of images in x_train', x_train.shape[0])\n",
    "print('Number of images in x_test', x_test.shape[0])"
   ]
  },
  {
   "cell_type": "code",
   "execution_count": 11,
   "metadata": {
    "colab": {},
    "colab_type": "code",
    "id": "0lTKS5KM_K4s"
   },
   "outputs": [],
   "source": [
    "#Initializing the input shape\n",
    "input_shape = (28, 28, 1)"
   ]
  },
  {
   "cell_type": "code",
   "execution_count": 12,
   "metadata": {
    "colab": {
     "base_uri": "https://localhost:8080/",
     "height": 763
    },
    "colab_type": "code",
    "id": "VNF6-SsB_NmZ",
    "outputId": "4513fc8d-dd4a-49c8-de7c-cb6a3f0aa84d"
   },
   "outputs": [
    {
     "name": "stdout",
     "output_type": "stream",
     "text": [
      "Model: \"sequential\"\n",
      "_________________________________________________________________\n",
      "Layer (type)                 Output Shape              Param #   \n",
      "=================================================================\n",
      "conv2d (Conv2D)              (None, 26, 26, 32)        320       \n",
      "_________________________________________________________________\n",
      "max_pooling2d (MaxPooling2D) (None, 13, 13, 32)        0         \n",
      "_________________________________________________________________\n",
      "conv2d_1 (Conv2D)            (None, 11, 11, 32)        9248      \n",
      "_________________________________________________________________\n",
      "batch_normalization (BatchNo (None, 11, 11, 32)        128       \n",
      "_________________________________________________________________\n",
      "conv2d_2 (Conv2D)            (None, 6, 6, 32)          25632     \n",
      "_________________________________________________________________\n",
      "batch_normalization_1 (Batch (None, 6, 6, 32)          128       \n",
      "_________________________________________________________________\n",
      "dropout (Dropout)            (None, 6, 6, 32)          0         \n",
      "_________________________________________________________________\n",
      "conv2d_3 (Conv2D)            (None, 4, 4, 64)          18496     \n",
      "_________________________________________________________________\n",
      "batch_normalization_2 (Batch (None, 4, 4, 64)          256       \n",
      "_________________________________________________________________\n",
      "conv2d_4 (Conv2D)            (None, 2, 2, 64)          36928     \n",
      "_________________________________________________________________\n",
      "batch_normalization_3 (Batch (None, 2, 2, 64)          256       \n",
      "_________________________________________________________________\n",
      "conv2d_5 (Conv2D)            (None, 1, 1, 64)          102464    \n",
      "_________________________________________________________________\n",
      "batch_normalization_4 (Batch (None, 1, 1, 64)          256       \n",
      "_________________________________________________________________\n",
      "dropout_1 (Dropout)          (None, 1, 1, 64)          0         \n",
      "_________________________________________________________________\n",
      "flatten (Flatten)            (None, 64)                0         \n",
      "_________________________________________________________________\n",
      "dropout_2 (Dropout)          (None, 64)                0         \n",
      "_________________________________________________________________\n",
      "dense (Dense)                (None, 10)                650       \n",
      "=================================================================\n",
      "Total params: 194,762\n",
      "Trainable params: 194,250\n",
      "Non-trainable params: 512\n",
      "_________________________________________________________________\n",
      "None\n"
     ]
    }
   ],
   "source": [
    "#Building the \"Convolutional Neural Network\" model\n",
    "\n",
    "from tensorflow import keras\n",
    "\n",
    "model = keras.Sequential([\n",
    "\n",
    "keras.layers.Conv2D(32, kernel_size = 3, activation='relu', input_shape = input_shape),\n",
    "keras.layers.MaxPooling2D(),\n",
    "keras.layers.Conv2D(32, kernel_size = 3, activation='relu'),\n",
    "keras.layers.BatchNormalization(),\n",
    "keras.layers.Conv2D(32, kernel_size = 5, strides=2, padding='same', activation='relu'),\n",
    "keras.layers.BatchNormalization(),\n",
    "keras.layers.Dropout(0.4),\n",
    "\n",
    "keras.layers.Conv2D(64, kernel_size = 3, activation='relu'),\n",
    "keras.layers.BatchNormalization(),\n",
    "keras.layers.Conv2D(64, kernel_size = 3, activation='relu'),\n",
    "keras.layers.BatchNormalization(),\n",
    "keras.layers.Conv2D(64, kernel_size = 5, strides=2, padding='same', activation='relu'),\n",
    "keras.layers.BatchNormalization(),\n",
    "keras.layers.Dropout(0.4),\n",
    "\n",
    "keras.layers.Flatten(),\n",
    "keras.layers.Dropout(0.4),\n",
    "keras.layers.Dense(10, activation='softmax')\n",
    "\n",
    "])\n",
    "\n",
    "print(model.summary())"
   ]
  },
  {
   "cell_type": "code",
   "execution_count": 13,
   "metadata": {
    "colab": {
     "base_uri": "https://localhost:8080/",
     "height": 1000
    },
    "colab_type": "code",
    "id": "nv-jtz_H_SHr",
    "outputId": "545f5043-dea2-4056-8eb8-45e7e1a5b622"
   },
   "outputs": [
    {
     "name": "stdout",
     "output_type": "stream",
     "text": [
      "Epoch 1/30\n",
      "1875/1875 [==============================] - 59s 31ms/step - loss: 0.3099 - accuracy: 0.9099\n",
      "Epoch 2/30\n",
      "1875/1875 [==============================] - 69s 37ms/step - loss: 0.1030 - accuracy: 0.9725\n",
      "Epoch 3/30\n",
      "1875/1875 [==============================] - 62s 33ms/step - loss: 0.0823 - accuracy: 0.9786\n",
      "Epoch 4/30\n",
      "1875/1875 [==============================] - 68s 36ms/step - loss: 0.0678 - accuracy: 0.9819\n",
      "Epoch 5/30\n",
      "1875/1875 [==============================] - 62s 33ms/step - loss: 0.0552 - accuracy: 0.9852\n",
      "Epoch 6/30\n",
      "1875/1875 [==============================] - 69s 37ms/step - loss: 0.0529 - accuracy: 0.9859\n",
      "Epoch 7/30\n",
      "1875/1875 [==============================] - 66s 35ms/step - loss: 0.0433 - accuracy: 0.9886\n",
      "Epoch 8/30\n",
      "1875/1875 [==============================] - 59s 31ms/step - loss: 0.0408 - accuracy: 0.9890\n",
      "Epoch 9/30\n",
      "1875/1875 [==============================] - 59s 31ms/step - loss: 0.0378 - accuracy: 0.9899\n",
      "Epoch 10/30\n",
      "1875/1875 [==============================] - 61s 33ms/step - loss: 0.0342 - accuracy: 0.9910\n",
      "Epoch 11/30\n",
      "1875/1875 [==============================] - 59s 31ms/step - loss: 0.0315 - accuracy: 0.9916\n",
      "Epoch 12/30\n",
      "1875/1875 [==============================] - 57s 31ms/step - loss: 0.0292 - accuracy: 0.9920\n",
      "Epoch 13/30\n",
      "1875/1875 [==============================] - 60s 32ms/step - loss: 0.0284 - accuracy: 0.9917\n",
      "Epoch 14/30\n",
      "1875/1875 [==============================] - 60s 32ms/step - loss: 0.0255 - accuracy: 0.9934\n",
      "Epoch 15/30\n",
      "1875/1875 [==============================] - 60s 32ms/step - loss: 0.0247 - accuracy: 0.9931\n",
      "Epoch 16/30\n",
      "1875/1875 [==============================] - 59s 32ms/step - loss: 0.0238 - accuracy: 0.9935\n",
      "Epoch 17/30\n",
      "1875/1875 [==============================] - 64s 34ms/step - loss: 0.0213 - accuracy: 0.9941\n",
      "Epoch 18/30\n",
      "1875/1875 [==============================] - 61s 33ms/step - loss: 0.0215 - accuracy: 0.9941\n",
      "Epoch 19/30\n",
      "1875/1875 [==============================] - 64s 34ms/step - loss: 0.0204 - accuracy: 0.9944\n",
      "Epoch 20/30\n",
      "1875/1875 [==============================] - 59s 31ms/step - loss: 0.0203 - accuracy: 0.9942\n",
      "Epoch 21/30\n",
      "1875/1875 [==============================] - 61s 32ms/step - loss: 0.0178 - accuracy: 0.9948\n",
      "Epoch 22/30\n",
      "1875/1875 [==============================] - 63s 33ms/step - loss: 0.0174 - accuracy: 0.9950\n",
      "Epoch 23/30\n",
      "1875/1875 [==============================] - 69s 37ms/step - loss: 0.0195 - accuracy: 0.9948\n",
      "Epoch 24/30\n",
      "1875/1875 [==============================] - 66s 35ms/step - loss: 0.0160 - accuracy: 0.99560s - loss: 0\n",
      "Epoch 25/30\n",
      "1875/1875 [==============================] - 65s 35ms/step - loss: 0.0170 - accuracy: 0.9955\n",
      "Epoch 26/30\n",
      "1875/1875 [==============================] - 66s 35ms/step - loss: 0.0159 - accuracy: 0.9956\n",
      "Epoch 27/30\n",
      "1875/1875 [==============================] - 59s 31ms/step - loss: 0.0150 - accuracy: 0.9959\n",
      "Epoch 28/30\n",
      "1875/1875 [==============================] - 64s 34ms/step - loss: 0.0132 - accuracy: 0.9963\n",
      "Epoch 29/30\n",
      "1875/1875 [==============================] - 64s 34ms/step - loss: 0.0139 - accuracy: 0.9961\n",
      "Epoch 30/30\n",
      "1875/1875 [==============================] - 60s 32ms/step - loss: 0.0154 - accuracy: 0.9961 - ETA: 0s - loss: 0.0154 - accuracy: 0.99\n"
     ]
    },
    {
     "data": {
      "text/plain": [
       "<tensorflow.python.keras.callbacks.History at 0x24a5db94490>"
      ]
     },
     "execution_count": 13,
     "metadata": {},
     "output_type": "execute_result"
    }
   ],
   "source": [
    "#Training the model\n",
    "model.compile(optimizer=\"adam\", loss=\"categorical_crossentropy\", metrics=[\"accuracy\"])\n",
    "model.fit(x=x_train,y=y_train, epochs=30)"
   ]
  },
  {
   "cell_type": "code",
   "execution_count": 14,
   "metadata": {
    "colab": {
     "base_uri": "https://localhost:8080/",
     "height": 72
    },
    "colab_type": "code",
    "id": "T9zwUDEc_VpZ",
    "outputId": "b720ddb2-39fd-4b16-d94c-4e1950dc732a"
   },
   "outputs": [
    {
     "name": "stdout",
     "output_type": "stream",
     "text": [
      "313/313 [==============================] - 2s 5ms/step - loss: 0.0252 - accuracy: 0.9944\n"
     ]
    },
    {
     "data": {
      "text/plain": [
       "[0.02517593465745449, 0.9944000244140625]"
      ]
     },
     "execution_count": 14,
     "metadata": {},
     "output_type": "execute_result"
    }
   ],
   "source": [
    "#Testing the model\n",
    "model.evaluate(x_test, y_test)"
   ]
  },
  {
   "cell_type": "code",
   "execution_count": 21,
   "metadata": {
    "colab": {},
    "colab_type": "code",
    "id": "_uqyYeLTJKUd"
   },
   "outputs": [],
   "source": [
    "import tensorflowjs as tfjs\n",
    "tfjs.converters.save_keras_model(model, 'C:/Users/ZEUS/Desktop')"
   ]
  },
  {
   "cell_type": "code",
   "execution_count": null,
   "metadata": {},
   "outputs": [],
   "source": []
  }
 ],
 "metadata": {
  "accelerator": "GPU",
  "colab": {
   "name": "Digit Recognition.ipynb",
   "provenance": []
  },
  "kernelspec": {
   "display_name": "Python 3",
   "language": "python",
   "name": "python3"
  },
  "language_info": {
   "codemirror_mode": {
    "name": "ipython",
    "version": 3
   },
   "file_extension": ".py",
   "mimetype": "text/x-python",
   "name": "python",
   "nbconvert_exporter": "python",
   "pygments_lexer": "ipython3",
   "version": "3.8.2"
  }
 },
 "nbformat": 4,
 "nbformat_minor": 1
}
